{
 "cells": [
  {
   "cell_type": "code",
   "execution_count": 1,
   "metadata": {},
   "outputs": [],
   "source": [
    "#由于cifar10.py中有argparse函数，Jupyter不支持，所以不能导入\n",
    "import cifar10_input\n",
    "import tensorflow as tf\n",
    "import numpy as np\n",
    "import time"
   ]
  },
  {
   "cell_type": "markdown",
   "metadata": {},
   "source": [
    "### 1、数据处理"
   ]
  },
  {
   "cell_type": "code",
   "execution_count": 2,
   "metadata": {},
   "outputs": [],
   "source": [
    "max_steps = 300\n",
    "batch_size = 128\n",
    "data_dir = 'tmp/cifar-10-batches-bin'"
   ]
  },
  {
   "cell_type": "code",
   "execution_count": 3,
   "metadata": {},
   "outputs": [
    {
     "name": "stdout",
     "output_type": "stream",
     "text": [
      "Filling queue with 20000 CIFAR images before starting to train. This will take a few minutes.\n"
     ]
    }
   ],
   "source": [
    "#产生训练需要的数据集，返回的是tensor。并且distorted函数已经对图片做了随机的数据增强处理，包括反转剪裁……\n",
    "images_train, labels_train = cifar10_input.distorted_inputs(data_dir=data_dir,\n",
    "                                                            batch_size=batch_size)\n"
   ]
  },
  {
   "cell_type": "code",
   "execution_count": 4,
   "metadata": {},
   "outputs": [
    {
     "name": "stdout",
     "output_type": "stream",
     "text": [
      "Tensor(\"shuffle_batch:0\", shape=(128, 24, 24, 3), dtype=float32)\n",
      "Tensor(\"Reshape_1:0\", shape=(128,), dtype=int32)\n"
     ]
    }
   ],
   "source": [
    "print images_train\n",
    "print labels_train"
   ]
  },
  {
   "cell_type": "code",
   "execution_count": 5,
   "metadata": {},
   "outputs": [],
   "source": [
    "#生成测试数据，不用随机处理了\n",
    "images_test, labels_test = cifar10_input.inputs(eval_data=True,\n",
    "                                                data_dir=data_dir,\n",
    "                                                batch_size=batch_size)                                                  "
   ]
  },
  {
   "cell_type": "markdown",
   "metadata": {},
   "source": [
    "### 2、模型构建"
   ]
  },
  {
   "cell_type": "code",
   "execution_count": 6,
   "metadata": {},
   "outputs": [],
   "source": [
    "# 返回一个初始化w的同时，把正则项加入collection，wl是正则化系数\n",
    "def variable_with_weight_loss(shape, stddev, wl):\n",
    "    var = tf.Variable(tf.truncated_normal(shape, stddev=stddev))\n",
    "    if wl is not None:\n",
    "        weight_loss = tf.multiply(tf.nn.l2_loss(var), wl, name='weight_loss')\n",
    "        tf.add_to_collection('losses', weight_loss)\n",
    "    return var"
   ]
  },
  {
   "cell_type": "code",
   "execution_count": 7,
   "metadata": {},
   "outputs": [],
   "source": [
    "# 计算总的损失函数\n",
    "def loss(logits, labels):\n",
    "#      \"\"\"Add L2Loss to all the trainable variables.\n",
    "#      Add summary for \"Loss\" and \"Loss/avg\".\n",
    "#      Args:\n",
    "#        logits: Logits from inference().\n",
    "#        labels: Labels from distorted_inputs or inputs(). 1-D tensor\n",
    "#                of shape [batch_size]\n",
    "#      Returns:\n",
    "#        Loss tensor of type float.\n",
    "#      \"\"\"\n",
    "#      # Calculate the average cross entropy loss across the batch.\n",
    "    labels = tf.cast(labels, tf.int64)\n",
    "    cross_entropy = tf.nn.sparse_softmax_cross_entropy_with_logits(\n",
    "        logits=logits, labels=labels, name='cross_entropy_per_example')\n",
    "    cross_entropy_mean = tf.reduce_mean(cross_entropy, name='cross_entropy')\n",
    "    tf.add_to_collection('losses', cross_entropy_mean)\n",
    "\n",
    "  # The total loss is defined as the cross entropy loss plus all of the weight\n",
    "  # decay terms (L2 loss).\n",
    "    return tf.add_n(tf.get_collection('losses'), name='total_loss')\n",
    " "
   ]
  },
  {
   "cell_type": "code",
   "execution_count": 8,
   "metadata": {},
   "outputs": [],
   "source": [
    "# 模型建立，输入X，返回最后的输出\n",
    "def inference(X):\n",
    "\n",
    "\n",
    "    weight1 = variable_with_weight_loss(shape=[5, 5, 3, 64], stddev=5e-2, wl=0.0)\n",
    "    kernel1 = tf.nn.conv2d(X, weight1, [1, 1, 1, 1], padding='SAME')\n",
    "    bias1 = tf.Variable(tf.constant(0.0, shape=[64]))\n",
    "    conv1 = tf.nn.relu(tf.nn.bias_add(kernel1, bias1))\n",
    "    pool1 = tf.nn.max_pool(conv1, ksize=[1, 3, 3, 1], strides=[1, 2, 2, 1],\n",
    "                       padding='SAME')\n",
    "    norm1 = tf.nn.lrn(pool1, 4, bias=1.0, alpha=0.001 / 9.0, beta=0.75)\n",
    "\n",
    "\n",
    "    weight2 = variable_with_weight_loss(shape=[5, 5, 64, 64], stddev=5e-2, wl=0.0)\n",
    "    kernel2 = tf.nn.conv2d(norm1, weight2, [1, 1, 1, 1], padding='SAME')\n",
    "    bias2 = tf.Variable(tf.constant(0.1, shape=[64]))\n",
    "    conv2 = tf.nn.relu(tf.nn.bias_add(kernel2, bias2))\n",
    "    norm2 = tf.nn.lrn(conv2, 4, bias=1.0, alpha=0.001 / 9.0, beta=0.75)\n",
    "    pool2 = tf.nn.max_pool(norm2, ksize=[1, 3, 3, 1], strides=[1, 2, 2, 1],\n",
    "                       padding='SAME')\n",
    "\n",
    "    reshape = tf.reshape(pool2, [batch_size, -1])\n",
    "    dim = reshape.get_shape()[1].value\n",
    "    weight3 = variable_with_weight_loss(shape=[dim, 384], stddev=0.04, wl=0.004)\n",
    "    bias3 = tf.Variable(tf.constant(0.1, shape=[384]))\n",
    "    local3 = tf.nn.relu(tf.matmul(reshape, weight3) + bias3)\n",
    "\n",
    "    weight4 = variable_with_weight_loss(shape=[384, 192], stddev=0.04, wl=0.004)\n",
    "    bias4 = tf.Variable(tf.constant(0.1, shape=[192]))                                      \n",
    "    local4 = tf.nn.relu(tf.matmul(local3, weight4) + bias4)\n",
    "\n",
    "    weight5 = variable_with_weight_loss(shape=[192, 10], stddev=1/192.0, wl=0.0)\n",
    "    bias5 = tf.Variable(tf.constant(0.0, shape=[10]))\n",
    "    logits = tf.add(tf.matmul(local4, weight5), bias5)\n",
    "     \n",
    "    return logits"
   ]
  },
  {
   "cell_type": "markdown",
   "metadata": {},
   "source": [
    "### 3、模型训练"
   ]
  },
  {
   "cell_type": "code",
   "execution_count": 9,
   "metadata": {},
   "outputs": [
    {
     "name": "stdout",
     "output_type": "stream",
     "text": [
      "step 0, loss = 4.68 (35.4 examples/sec; 3.614 sec/batch)\n",
      "step 10, loss = 3.72 (204.5 examples/sec; 0.626 sec/batch)\n",
      "step 20, loss = 3.01 (203.3 examples/sec; 0.630 sec/batch)\n",
      "step 30, loss = 2.69 (195.9 examples/sec; 0.654 sec/batch)\n",
      "step 40, loss = 2.53 (207.1 examples/sec; 0.618 sec/batch)\n",
      "step 50, loss = 2.28 (198.3 examples/sec; 0.645 sec/batch)\n",
      "step 60, loss = 2.08 (200.8 examples/sec; 0.637 sec/batch)\n",
      "step 70, loss = 2.07 (167.0 examples/sec; 0.766 sec/batch)\n",
      "step 80, loss = 1.93 (196.2 examples/sec; 0.652 sec/batch)\n",
      "step 90, loss = 2.09 (203.1 examples/sec; 0.630 sec/batch)\n",
      "step 100, loss = 1.94 (198.0 examples/sec; 0.647 sec/batch)\n",
      "step 110, loss = 1.98 (199.8 examples/sec; 0.641 sec/batch)\n",
      "step 120, loss = 1.83 (199.3 examples/sec; 0.642 sec/batch)\n",
      "step 130, loss = 1.75 (197.8 examples/sec; 0.647 sec/batch)\n",
      "step 140, loss = 1.75 (208.8 examples/sec; 0.613 sec/batch)\n",
      "step 150, loss = 1.85 (198.9 examples/sec; 0.644 sec/batch)\n",
      "step 160, loss = 1.65 (208.3 examples/sec; 0.615 sec/batch)\n",
      "step 170, loss = 1.76 (199.7 examples/sec; 0.641 sec/batch)\n",
      "step 180, loss = 1.68 (199.4 examples/sec; 0.642 sec/batch)\n",
      "step 190, loss = 1.76 (205.5 examples/sec; 0.623 sec/batch)\n",
      "step 200, loss = 1.82 (201.2 examples/sec; 0.636 sec/batch)\n",
      "step 210, loss = 1.75 (206.5 examples/sec; 0.620 sec/batch)\n",
      "step 220, loss = 1.74 (194.6 examples/sec; 0.658 sec/batch)\n",
      "step 230, loss = 1.65 (196.0 examples/sec; 0.653 sec/batch)\n",
      "step 240, loss = 1.61 (206.8 examples/sec; 0.619 sec/batch)\n",
      "step 250, loss = 1.57 (202.6 examples/sec; 0.632 sec/batch)\n",
      "step 260, loss = 1.56 (209.0 examples/sec; 0.613 sec/batch)\n",
      "step 270, loss = 1.69 (202.9 examples/sec; 0.631 sec/batch)\n",
      "step 280, loss = 1.69 (199.5 examples/sec; 0.641 sec/batch)\n",
      "step 290, loss = 1.51 (205.6 examples/sec; 0.622 sec/batch)\n"
     ]
    }
   ],
   "source": [
    "image_holder = tf.placeholder(tf.float32, [batch_size, 24, 24, 3])\n",
    "label_holder = tf.placeholder(tf.int32, [batch_size])\n",
    "\n",
    "logits = inference(X= image_holder)\n",
    "losses = loss(logits,label_holder)\n",
    "\n",
    "train_op = tf.train.AdamOptimizer(1e-3).minimize(losses) #0.72\n",
    "\n",
    "# 表示每个样本中，预测的前k大的概率中，是否有标签判断对了，有的话为True。这里k=1\n",
    "top_k_op = tf.nn.in_top_k(logits, label_holder, 1)\n",
    "\n",
    "sess = tf.InteractiveSession()\n",
    "tf.global_variables_initializer().run()\n",
    "\n",
    "# 启动图片数据增强的线程队列，16线程加速，必须启动。\n",
    "tf.train.start_queue_runners()\n",
    "###\n",
    "for step in range(max_steps):\n",
    "    start_time = time.time()\n",
    "    image_batch,label_batch = sess.run([images_train,labels_train])\n",
    "    _, loss_value = sess.run([train_op, losses],feed_dict={image_holder: image_batch, \n",
    "                                                         label_holder:label_batch})\n",
    "    duration = time.time() - start_time\n",
    "\n",
    "    if step % 10 == 0:\n",
    "        examples_per_sec = batch_size / duration\n",
    "        sec_per_batch = float(duration)\n",
    "    \n",
    "        format_str = ('step %d, loss = %.2f (%.1f examples/sec; %.3f sec/batch)')\n",
    "        print(format_str % (step, loss_value, examples_per_sec, sec_per_batch))\n",
    "    \n",
    "###"
   ]
  },
  {
   "cell_type": "markdown",
   "metadata": {},
   "source": [
    "### 4、模型测试"
   ]
  },
  {
   "cell_type": "code",
   "execution_count": 12,
   "metadata": {},
   "outputs": [
    {
     "name": "stdout",
     "output_type": "stream",
     "text": [
      "precision @ 1 = 0.479\n"
     ]
    }
   ],
   "source": [
    "num_examples = 10000\n",
    "import math\n",
    "num_iter = int(math.ceil(num_examples / batch_size))\n",
    "true_count = 0  \n",
    "total_sample_count = num_iter * batch_size\n",
    "step = 0\n",
    "while step < num_iter:\n",
    "    image_batch,label_batch = sess.run([images_test,labels_test])\n",
    "    predictions = sess.run([top_k_op],feed_dict={image_holder: image_batch,\n",
    "                                                 label_holder:label_batch})\n",
    "    true_count += np.sum(predictions)\n",
    "    step += 1\n",
    "\n",
    "precision = true_count *1.0 / total_sample_count\n",
    "print('precision @ 1 = %.3f' % precision)"
   ]
  }
 ],
 "metadata": {
  "kernelspec": {
   "display_name": "Python 2",
   "language": "python",
   "name": "python2"
  },
  "language_info": {
   "codemirror_mode": {
    "name": "ipython",
    "version": 2
   },
   "file_extension": ".py",
   "mimetype": "text/x-python",
   "name": "python",
   "nbconvert_exporter": "python",
   "pygments_lexer": "ipython2",
   "version": "2.7.10"
  }
 },
 "nbformat": 4,
 "nbformat_minor": 2
}
